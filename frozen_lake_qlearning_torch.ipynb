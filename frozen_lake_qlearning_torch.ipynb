{
 "cells": [
  {
   "cell_type": "code",
   "execution_count": 1,
   "metadata": {},
   "outputs": [],
   "source": [
    "import torch\n",
    "import gym\n",
    "from tqdm import tqdm\n",
    "import matplotlib.pyplot as plt\n",
    "plt.rcParams.update({'figure.figsize': [10,5]})\n",
    "import numpy as np\n",
    "from sklearn.linear_model import LinearRegression"
   ]
  },
  {
   "cell_type": "code",
   "execution_count": 2,
   "metadata": {},
   "outputs": [],
   "source": [
    "env = gym.make('FrozenLake-v0')"
   ]
  },
  {
   "cell_type": "code",
   "execution_count": 3,
   "metadata": {},
   "outputs": [],
   "source": [
    "num_actions = env.env.nA\n",
    "num_states = env.env.nS"
   ]
  },
  {
   "cell_type": "code",
   "execution_count": 4,
   "metadata": {},
   "outputs": [],
   "source": [
    "def argmax(q_values):\n",
    "    # argmax with random tie-breaking\n",
    "\n",
    "    top = float(\"-inf\")\n",
    "    ties = []\n",
    "\n",
    "    for i in range(len(q_values)):\n",
    "        if q_values[i] > top:\n",
    "            top = q_values[i]\n",
    "            ties = []\n",
    "\n",
    "        if q_values[i] == top:\n",
    "            ties.append(i)\n",
    "\n",
    "    return torch.tensor([ties[torch.randint(len(ties), (1,))]])\n",
    "\n",
    "def epsilon_greedy_action(q, state):\n",
    "    \n",
    "    current_q = q[state, :]\n",
    "    \n",
    "    if torch.rand(1) < epsilon:\n",
    "        action = torch.randint(num_actions, (1,))\n",
    "    else:\n",
    "        action = argmax(current_q)\n",
    "        \n",
    "    return action\n",
    "\n",
    "def q_learning_update(prev_state, prev_action, state, reward):\n",
    "    \n",
    "    current_q = q[state, :]\n",
    "    \n",
    "    q[prev_state, prev_action] += learning_rate * (reward + discount * max(current_q) - q[prev_state, prev_action])"
   ]
  },
  {
   "cell_type": "code",
   "execution_count": 5,
   "metadata": {},
   "outputs": [
    {
     "name": "stderr",
     "output_type": "stream",
     "text": [
      "100%|██████████| 5000/5000 [00:23<00:00, 215.22it/s]\n"
     ]
    }
   ],
   "source": [
    "# initialise q to zeros\n",
    "q = torch.zeros((num_states, num_actions))\n",
    "\n",
    "discount = 1\n",
    "learning_rate = 0.05\n",
    "epsilon = 0.1\n",
    "episodes = 5000\n",
    "\n",
    "episode_rewards = torch.zeros(episodes)\n",
    "for episode in tqdm(range(episodes)):\n",
    "\n",
    "    # first action from start state\n",
    "    start_state = env.reset()\n",
    "    action = epsilon_greedy_action(q, start_state)\n",
    "    prev_state = start_state\n",
    "    prev_action = action\n",
    "\n",
    "    # get reward from env\n",
    "    state, reward, terminal, info = env.step(action.numpy()[0])\n",
    "\n",
    "    while terminal is False:\n",
    "        # choose next action\n",
    "        action = epsilon_greedy_action(q, state)\n",
    "\n",
    "        # update q values for last step\n",
    "        q_learning_update(prev_state, prev_action, state, reward)\n",
    "        prev_state = state\n",
    "        prev_action = action\n",
    "\n",
    "        # take next step and get reward from env\n",
    "        state, reward, terminal, info = env.step(action.numpy()[0])\n",
    "\n",
    "    else:\n",
    "        # final update\n",
    "        q[prev_state, prev_action] += learning_rate * (reward - q[prev_state, prev_action])\n",
    "\n",
    "    episode_rewards[episode] = reward\n",
    "cum_rewards = torch.cumsum(episode_rewards, dim=0)\n",
    "    "
   ]
  },
  {
   "cell_type": "code",
   "execution_count": 6,
   "metadata": {},
   "outputs": [
    {
     "data": {
      "image/png": "[encoded data removed]",
      "text/plain": [
       "<Figure size 720x360 with 1 Axes>"
      ]
     },
     "metadata": {
      "needs_background": "light"
     },
     "output_type": "display_data"
    }
   ],
   "source": [
    "plt.plot(cum_rewards)\n",
    "plt.xlabel(\"Episodes\")\n",
    "plt.ylabel(\"Cummulative reward\")\n",
    "plt.xlim(0, episodes)\n",
    "plt.ylim(0, cum_rewards[-1])\n",
    "plt.show()"
   ]
  },
  {
   "cell_type": "code",
   "execution_count": 7,
   "metadata": {},
   "outputs": [
    {
     "data": {
      "text/plain": [
       "array([[0.40953194]])"
      ]
     },
     "execution_count": 7,
     "metadata": {},
     "output_type": "execute_result"
    }
   ],
   "source": [
    "linear_start = 3500\n",
    "x = np.array(range(episodes)[-(episodes-linear_start):]).reshape(-1, 1)\n",
    "y = cum_rewards[-(episodes-linear_start):].reshape(-1, 1)\n",
    "reg = LinearRegression().fit(x,y)\n",
    "reg.coef_"
   ]
  },
  {
   "cell_type": "code",
   "execution_count": null,
   "metadata": {},
   "outputs": [],
   "source": []
  },
  {
   "cell_type": "code",
   "execution_count": null,
   "metadata": {},
   "outputs": [],
   "source": []
  }
 ],
 "metadata": {
  "kernelspec": {
   "display_name": "Python 3",
   "language": "python",
   "name": "python3"
  },
  "language_info": {
   "codemirror_mode": {
    "name": "ipython",
    "version": 3
   },
   "file_extension": ".py",
   "mimetype": "text/x-python",
   "name": "python",
   "nbconvert_exporter": "python",
   "pygments_lexer": "ipython3",
   "version": "3.7.9"
  }
 },
 "nbformat": 4,
 "nbformat_minor": 4
}
